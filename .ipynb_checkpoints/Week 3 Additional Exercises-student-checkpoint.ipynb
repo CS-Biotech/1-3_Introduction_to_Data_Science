{
 "cells": [
  {
   "cell_type": "markdown",
   "id": "8c284c13",
   "metadata": {},
   "source": [
    "# Week 3: Introduction to Data Science 📈\n",
    "# Additional Exercises\n",
    "\n",
    "To wrap up this week's exploration on the heart failure dataset, we will take a closer look at the statistical analysis done at the end of the tutorial module, where we used a logistic regression model to identify which features have the most statistical significance and impact on the death of a patient.\n",
    "\n",
    "The focus for this module is the following:\n",
    "1. Statistical analysis using logistic regression\n",
    "\n",
    "First, **run the cell below** to load the dataset after cleaning and modifying it in the tutorial (do not modify this code)."
   ]
  },
  {
   "cell_type": "code",
   "execution_count": null,
   "id": "642aeaa1",
   "metadata": {},
   "outputs": [],
   "source": [
    "import pandas as pd\n",
    "df = pd.read_csv(\"hf_data_tut.csv\")\n",
    "df"
   ]
  },
  {
   "cell_type": "markdown",
   "id": "79be28fa",
   "metadata": {},
   "source": [
    "### A Deeper Dive: Statistical analysis with logistic regression\n",
    "Recall that in the tutorial, we showed the results of applying a statistical model after separating the predictor and target variables. We used logistic regression as this is a classification task (the outcome can be one of two predefined categories: death or no death). Here we will explain how you actually interpret the results we showed in the tutorial module.\n",
    "\n",
    "First, a brief recap of the steps we took:\n",
    "1. Obtain a logistic regression model from `statsmodels`, which is a Python library for statistical analysis. \n",
    "2. Fit the model to our data; the `Logit model` in `statsmodels` requires the target variable `y` and predictor variables `x` for this purpose. This is where parameters in the model equation are determined. \n",
    "\n",
    "We print the result of this fitting to obtain statistics below: "
   ]
  },
  {
   "cell_type": "code",
   "execution_count": null,
   "id": "590b9889",
   "metadata": {},
   "outputs": [],
   "source": [
    "df.head()"
   ]
  },
  {
   "cell_type": "code",
   "execution_count": null,
   "id": "cf8bb5eb",
   "metadata": {},
   "outputs": [],
   "source": [
    "import numpy as np\n",
    "import statsmodels.api as sm\n",
    "\n",
    "# Split predictor and target variables\n",
    "x = df.drop(['DEATH_EVENT'], axis=1).copy()\n",
    "y = df['DEATH_EVENT'].copy()\n",
    "\n",
    "# Obtain and fit logistic regression model\n",
    "logit_model=sm.Logit(y,x)\n",
    "result=logit_model.fit()\n",
    "\n",
    "print(result.summary2())"
   ]
  },
  {
   "cell_type": "markdown",
   "id": "3c3f15af",
   "metadata": {},
   "source": [
    "---\n",
    "A few definitions on the P>|z| and Coef. columns above:\n",
    "\n",
    "<span style=\"background-color: #AFEEEE\">**p-value [P>|z|]**</span>: a statistical measure of how likely the observed outcome is due to chance. A lower p-value indicates high statistical significance. Often, p < 0.05 is considered statistically significant. \n",
    "\n",
    "In the summary above, we see 6 variables have a p-value (the P>|z| column) greater than 0.05: `anaemia`, `diabetes`, `high_blood_pressure`, `platelets`, `sex`, and `smoking`. The effect of these variables on the death outcome is likely to be due to chance. \n",
    "\n",
    "<span style=\"background-color: #AFEEEE\">**Coefficients (in log regression) [Coef.]**</span>: a statistical measure of how much each predictor variable affects the observed outcome, if all other variables are held constant. For continuous variables (such as `age`), the Coef. tells us how much the log-odds of the patient dying will increase for a 1-year increase in age. For binary categorical variables (such as `smoking`, which is either `True` or `False`), the Coef. tells us how much the log-odds will increase for a smoker compared to a non-smoker.\n",
    "\n",
    "<span style=\"background-color: #AFEEEE\">**log-odds**</span>: the logarithm of the odds.\n",
    "\n",
    "<span style=\"background-color: #AFEEEE\">**odds**</span>: the ratio of an outcome vs. other outcomes. \n",
    "In this case, odds are the ratio of the probability of death/no death. If the probability of death is the same as the probability of no death, the odds would be 1. If death is more probable, the odds would be greater than 1. If no death is more probable, the odds would be less than 1. \n",
    "\n",
    "It is easier to interpret coefficients by converting them to odds. We do this by taking the exponential function of the log-odds:\n",
    "\n",
    "<h1><center> \n",
    "\n",
    "odds = exp(log-odds)\n",
    "\n",
    "For example, ejection_fraction has a coefficient of -0.0710.\n",
    "\n",
    "odds = exp(-0.071) = 0.93239\\\n",
    "0.93239 - 1 = -0.0676\n",
    "\n",
    "</center></h1>\n",
    "\n",
    "Thus, a 1-unit increase in ejection fraction results in a 6.76% *decrease* in the odds that the patient will die."
   ]
  },
  {
   "cell_type": "markdown",
   "id": "3544909f-711d-4245-aa98-1e7fa748a670",
   "metadata": {},
   "source": [
    "---\n",
    "**Q*1: Calculate the odds increase for `anaemia` from its coefficient in the result above and interpret the results (remember that `anaemia` is a categorical variable). Based on the coefficient and p-value, is anaemia likely a risk factor for death?**\n",
    "\n",
    "<span style=\"background-color: #FFD700\">**Write your answer below**</span>"
   ]
  },
  {
   "cell_type": "markdown",
   "id": "093d5706-dabf-4447-a8c8-7b8895b5b9fd",
   "metadata": {},
   "source": [
    "Answer here:\n",
    "\n",
    "---"
   ]
  },
  {
   "cell_type": "markdown",
   "id": "c0d66501",
   "metadata": {},
   "source": [
    "We must find the features with the highest increase in odds, and simultaneously filter out features with low statistical significance. Below is the code that filters out these features. **Run the code below** to generate a table with just these features from the results summary."
   ]
  },
  {
   "cell_type": "code",
   "execution_count": null,
   "id": "1546646f",
   "metadata": {},
   "outputs": [],
   "source": [
    "# Creating new data frame of p values\n",
    "pvals = result.pvalues.T.to_frame()\n",
    "pvals.index.name = 'Features'\n",
    "\n",
    "# Creating new data frame of coefficients\n",
    "coefs = result.params.T.to_frame()\n",
    "coefs.index.name = 'Features'\n",
    "\n",
    "# Merge into one data frame\n",
    "results = pd.merge(coefs, pvals, how = \"left\", on = \"Features\",suffixes=(\"params\",\"pvalues\")).fillna(0).reset_index()\n",
    "results = results.rename(columns={'0params':'Coef','0pvalues':'P-value'})\n",
    "\n",
    "# Keep statistically significant features\n",
    "final_results = results.loc[(results['P-value'] < 0.05)].reset_index(drop=True)\n",
    "\n",
    "# Take exp of coefs to get odds\n",
    "final_results['Odds'] = np.exp(final_results['Coef'])\n",
    "\n",
    "# Calculate percent increase in odds\n",
    "final_results['Percent Increase'] = (final_results['Odds'] - 1)*100\n",
    "\n",
    "# Sort by odds\n",
    "final_results = final_results.sort_values(by=['Odds'], ascending=False).reset_index(drop=True)\n",
    "final_results"
   ]
  },
  {
   "cell_type": "markdown",
   "id": "2a5d7f72",
   "metadata": {},
   "source": [
    "Note that this is the same output provided to you in the tutorial module. At this point in your learning journey, you may not know how to implement all of the code above that performs the filtering and data manipulation, but that's okay! You will become more familiar with these functions and libraries as you continue learning."
   ]
  },
  {
   "cell_type": "markdown",
   "id": "09f9e253",
   "metadata": {},
   "source": [
    "## Conclusion\n",
    "To wrap up the week 3 modules, today you have learned about:\n",
    "1. The `statsmodels` library\n",
    "2. How to interpret results from `statsmodels` logistic regression"
   ]
  }
 ],
 "metadata": {
  "kernelspec": {
   "display_name": "Python 3 (ipykernel)",
   "language": "python",
   "name": "python3"
  },
  "language_info": {
   "codemirror_mode": {
    "name": "ipython",
    "version": 3
   },
   "file_extension": ".py",
   "mimetype": "text/x-python",
   "name": "python",
   "nbconvert_exporter": "python",
   "pygments_lexer": "ipython3",
   "version": "3.11.6"
  }
 },
 "nbformat": 4,
 "nbformat_minor": 5
}
